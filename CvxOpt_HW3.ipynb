{
  "nbformat": 4,
  "nbformat_minor": 0,
  "metadata": {
    "colab": {
      "name": "CvxOpt_HW3.ipynb",
      "provenance": []
    },
    "kernelspec": {
      "name": "python3",
      "display_name": "Python 3"
    },
    "language_info": {
      "name": "python"
    }
  },
  "cells": [
    {
      "cell_type": "markdown",
      "metadata": {
        "id": "m7Azl37zsBjv"
      },
      "source": [
        "# Convex Optimization - Homework 3 (Yui Chi HUNG)\n",
        "\n",
        "## Problem 1: Deriving the dual problem of LASSO and formatting it as a general Quadratic Problem (QP)\n",
        "\n",
        "Firstly, reformulate $\\min_{w} \\frac{1}{2}||Xw-y||_2^2+\\lambda||w||_1$ as $\\min_{w,z} \\frac{1}{2}||z||_2^2+\\lambda||w||_1$ with $Xw-z-y=0$.\n",
        "\n",
        "Then, the Lagrangian is \n",
        "\\begin{align*}\n",
        "L(w,z,\\nu) &=\\frac{1}{2}||z||_2^2+\\lambda||w||_1+\\nu^T(Xw-z-y)\\\\\n",
        "&=\\frac{1}{2}||z||_2^2-\\nu^T z+\\nu^T Xw+\\lambda||w||_1-\\nu^Ty\n",
        "\\end{align*}\n",
        "\n",
        "with $\\nu\\in\\mathbb{R}^n$. Since the terms involving $w$ and $z$ are separable, we can minimize them separately when calculating the Lagrange dual function $g(\\nu)=\\inf_{w,z}L(w,z,\\nu)$.\n",
        "\n",
        "For $\\inf_w \\nu^T Xw+\\lambda||w||_1$, if $||X^T\\nu||_\\infty > \\lambda$, let $|(X^T\\nu)_j|>\\lambda$. By setting $w=-t\\cdot\\text{sign}((X^T\\nu)_j)e_j$ with $e_j$ being the j-th basis vector in the canonical basis of $\\mathbb{R}^d$, $\\nu^T Xw+\\lambda||w||_1=-t\\lambda(|(X^T\\nu)_j|-1)\\to-\\infty$ as $t\\to\\infty$. Hence we have $\\inf_w \\nu^T Xw+\\lambda||w||_1=0$ if $||X^T\\nu||_\\infty \\leq \\lambda$ (by taking $w=0$) and $-\\infty$ otherwise. This is because for $||X^T\\nu||_\\infty \\leq \\lambda$, $|\\nu^T Xw|=|(X^T\\nu)^Tw|\\leq\\lambda||w||_1$.\n",
        "\n",
        "For $\\inf_z \\frac{1}{2}||z||_2^2-\\nu^T z$, by taking derivative with respect to $z$ and setting it to be 0, we get $z-\\nu=0$, which means $z=\\nu$. Since the expression is a convex function, $z=\\nu$ gives the infimum which equals to $-\\frac{||\\nu||_2^2}{2}$.\n",
        "\n",
        "Hence, $g(\\nu)=-\\frac{||\\nu||_2^2}{2}-\\nu^T y$ if $||X^T \\nu||_\\infty\\leq\\lambda$ and $-\\infty$ otherwise. So, the dual problem of LASSO is\n",
        "\\begin{align*}\n",
        "\\max_\\nu g(\\nu) &\\iff \\max_\\nu -\\frac{||\\nu||_2^2}{2}-\\nu^T y\\text{ subject to }||X^T \\nu||_\\infty\\leq\\lambda\\\\\n",
        "&\\iff \\min_\\nu \\frac{||\\nu||_2^2}{2}+y^T \\nu\\text{ subject to }||X^T \\nu||_\\infty\\leq\\lambda\\\\\n",
        "&\\iff \\min_v v^TQv+p^Tv\\text{ subject to }Av\\preceq b\n",
        "\\end{align*}\n",
        "\n",
        "with $v=\\nu\\in\\mathbb{R}^n$, $Q=\\frac{1}{2}I_{n\\times n}$, $p=y\\in\\mathbb{R}^n$, $A=\\begin{bmatrix}X^T\\\\-X^T\\end{bmatrix}\\in\\mathbb{R}^{2d\\times n}$, and $b$ is a vector in $\\mathbb{R}^{2d}$ with all its elements as $\\lambda$."
      ]
    },
    {
      "cell_type": "markdown",
      "metadata": {
        "id": "Q2KDNYOh-OyS"
      },
      "source": [
        "## Problem 2: Implementation of the barrier method to solve QP\n",
        "\n",
        "Firstly, consider the central path minimization problem corresponing to the above-mentioned QP. It is $\\min_v f(v)=\\min_v tf_0(v)+\\phi(v)$ with $t>0$, $f_0(v)=v^TQv+p^Tv$ and $\\phi(v)=-\\sum_{i=1}^{2d} \\log(b_i-A^{(i)}v)$, with $A^{(i)}$ denoting the $i$-th row of $A$.\n",
        "\n",
        "Now, we calculate the gradient and the Hessian of $f(v)$ for the Newton's method by chain rule.\n",
        "\\begin{align*}\n",
        "\\nabla f(v) &= t(2Qv+p) +\\sum_{i=1}^{2d} \\frac{1}{b_i-A^{(i)}v} {A^{(i)}}^T\\\\\n",
        "\\nabla^2 f(v) &= 2tQ +\\sum_{i=1}^{2d} \\left(\\frac{1}{b_i-A^{(i)}v}\\right)^2 {A^{(i)}}^T A^{(i)}\n",
        "\\end{align*}\n",
        "\n",
        "With the formulas, we can now implement the functions *centering_step$(Q,p,A,b,t,v0,eps)$*, *barr_method$(Q,p,A,b,v0,eps)$*, and the functions that are used in *centering_step* and *barr_method*."
      ]
    },
    {
      "cell_type": "code",
      "metadata": {
        "id": "o8tKTOJZF4fc"
      },
      "source": [
        "import numpy as np\n",
        "import matplotlib.pyplot as plt"
      ],
      "execution_count": 1,
      "outputs": []
    },
    {
      "cell_type": "code",
      "metadata": {
        "id": "A7cXtQywPq7Z"
      },
      "source": [
        "def s_feasible(A,b,v):\n",
        "    # check if the input A,b,v strictly satisfy the constraint\n",
        "    return ((np.matmul(A,v) >= b).sum() == 0)"
      ],
      "execution_count": 2,
      "outputs": []
    },
    {
      "cell_type": "code",
      "metadata": {
        "id": "nksK86flogsq"
      },
      "source": [
        "def f0(Q,p,v):\n",
        "    return np.matmul(v.T, np.matmul(Q,v)) + np.dot(p,v)"
      ],
      "execution_count": 3,
      "outputs": []
    },
    {
      "cell_type": "code",
      "metadata": {
        "id": "1FjozZZnOquK"
      },
      "source": [
        "def f(Q,p,A,b,t,v):\n",
        "    f0 = np.matmul(v.T, np.matmul(Q,v)) + np.dot(p,v)\n",
        "    phi = -np.sum(np.log(b-np.matmul(A,v)))\n",
        "    return t*f0+phi"
      ],
      "execution_count": 4,
      "outputs": []
    },
    {
      "cell_type": "code",
      "metadata": {
        "id": "llErz3r8OUhM"
      },
      "source": [
        "def backtracking(Q,p,A,b,t,v,alpha,beta,grad,newton_step):\n",
        "    bt = 1\n",
        "    too_small = False\n",
        "    while True:\n",
        "        if not s_feasible(A,b,v+bt*newton_step):\n",
        "            bt *= beta\n",
        "        elif bt < 1e-10:\n",
        "            too_small = True\n",
        "            break\n",
        "        elif f(Q,p,A,b,t,v+bt*newton_step) > f(Q,p,A,b,t,v)+alpha*bt*np.dot(grad,newton_step):\n",
        "            bt *= beta\n",
        "        else:\n",
        "            break\n",
        "    return bt, too_small"
      ],
      "execution_count": 5,
      "outputs": []
    },
    {
      "cell_type": "markdown",
      "metadata": {
        "id": "hQSDDugieUC8"
      },
      "source": [
        "In the implmentation of the sub-routine *centering_step*, a use of the tensor structure to store ${A^{(i)}}^T A^{(i)}$ for each $i$ is more convenient to compute the Hessian. Other values such as $\\frac{1}{b_i-A^{(i)}v}$'s are also pre-computed to improve the running time.\n",
        "\n",
        "The function does not return the sequence of variables iterates $(v_i)_{i=1,...}$ because I feel like it is more useful to only include that in the barrier method iteration. If it is necessary, this can be done simply by creating a list to store the values at each iteration (see the implementation of *barr_method* for details)."
      ]
    },
    {
      "cell_type": "code",
      "metadata": {
        "id": "fXurqbgdr4ap"
      },
      "source": [
        "def centering_step(Q,p,A,b,t,v0,eps):\n",
        "    v = v0\n",
        "    iter = 0\n",
        "    bAv_inv = 1/(b-np.matmul(A,v))\n",
        "    ATA_tensor = np.zeros((A.shape[0], A.shape[1], A.shape[1]))\n",
        "    for i in range(A.shape[0]):\n",
        "        ATA_tensor[i,:,:] = np.matmul(A[i,:].T, A[i,:])\n",
        "    while True:\n",
        "        # compute the Newton step and decrement\n",
        "        grad = t*(2*np.matmul(Q,v)+p) + np.dot(A.T, bAv_inv)\n",
        "        hess = 2*t*Q + np.tensordot(bAv_inv**2,ATA_tensor,1)\n",
        "        newton_step = -np.matmul(np.linalg.inv(hess), grad)\n",
        "        newton_decrement_sq = np.dot(grad,-newton_step)\n",
        "        \n",
        "        # stopping criterion\n",
        "        if newton_decrement_sq <= eps:\n",
        "            break\n",
        "        \n",
        "        # backtracking line search (and stopping criterion for backtracking)\n",
        "        alpha = 0.1 # parameter of backtracking\n",
        "        beta = 0.5 # parameter of backtracking\n",
        "        bt, too_small = backtracking(Q,p,A,b,t,v,alpha,beta,grad,newton_step)\n",
        "        if too_small:\n",
        "            break\n",
        "        \n",
        "        # update\n",
        "        v += bt*newton_step\n",
        "        iter += 1\n",
        "    return v"
      ],
      "execution_count": 6,
      "outputs": []
    },
    {
      "cell_type": "code",
      "metadata": {
        "id": "SSBvtJ5XD3qv"
      },
      "source": [
        "def barr_method(Q,p,A,b,v0,t=0.1,mu=1.5,eps=1e-5): # t > 0, mu > 1, eps > 0\n",
        "    v_list = []\n",
        "    f0_list = []\n",
        "    v = v0\n",
        "    iter = 1\n",
        "    while True:\n",
        "        # centering step and update\n",
        "        v = centering_step(Q,p,A,b,t,v0,eps)\n",
        "        v_list.append(v)\n",
        "        f0_list.append(f0(Q,p,v))\n",
        "        \n",
        "        # stopping criterion and increase t\n",
        "        m = A.shape[0]\n",
        "        if m/t < eps:\n",
        "            break\n",
        "        t *= mu\n",
        "        iter += 1\n",
        "    return v_list, f0_list"
      ],
      "execution_count": 7,
      "outputs": []
    },
    {
      "cell_type": "markdown",
      "metadata": {
        "id": "bustPNfUVEKE"
      },
      "source": [
        "## Problem 3: Testing the implemented functions on randomly generated data, and a comparison on different values of $\\mu$\n",
        "\n",
        "In this section, $X$ and $y$ are generated randomly by a linear relationship using a hidden feature vector $w$. The setting has $n<d$, which is a proper situation to consider LASSO. The initialization $v_0$ is taken to be a zero vector because it must be feasible in our case. For testing of the functions implemented above, I have also included a toy example on the data generation. The retrieved $w$ should be very close to the underlying $w$ if $λ$ is small enough. However, some numerical issues may happen if $\\lambda=0$ in my implementation.\n",
        "\n",
        "The way to calculate the gap $f(v_t)-f^*$ is implemented in the post-processing part."
      ]
    },
    {
      "cell_type": "code",
      "metadata": {
        "colab": {
          "base_uri": "https://localhost:8080/",
          "height": 295
        },
        "id": "LCtwnR89VswW",
        "outputId": "88b16b45-e3fc-46ee-c13c-d8745ce78c4d"
      },
      "source": [
        "_lambda = 10\n",
        "# data generation\n",
        "# test: w = [3,-2]\n",
        "# X = np.array([[1,1],[0.5,-2],[3,0],[-2,1],[-1,5]])\n",
        "# y = Xw = np.array([1,5.5,9,-8,-13])\n",
        "\n",
        "n = 10 # number of data points\n",
        "d = 60 # number of features\n",
        "X = np.random.randn(n,d) # data vectors\n",
        "w = np.random.randn(d)\n",
        "y = np.matmul(X,w) # observations\n",
        "\n",
        "# setting parameters for using the barrier method\n",
        "Q = 0.5*np.eye(n)\n",
        "p = y\n",
        "A = np.concatenate((X.T,-X.T), axis=0)\n",
        "b = _lambda*np.ones(2*d)\n",
        "# print(A.shape,b.shape)\n",
        "\n",
        "# initialization and hyperparameter tuning\n",
        "v0 = np.zeros(n)\n",
        "# t = \n",
        "# mu = \n",
        "eps = 1e-5\n",
        "\n",
        "# running the barrier method\n",
        "assert s_feasible(A,b,v0)\n",
        "v_list, f0_list = barr_method(Q,p,A,b,v0,eps=eps)\n",
        "\n",
        "# postprocessing\n",
        "v_ast = v_list.pop(-1)\n",
        "f0_ast = f0_list.pop(-1)\n",
        "gap_list = f0_list - f0_ast\n",
        "iter = list(range(len(gap_list)+1))\n",
        "iter.pop(0)\n",
        "\n",
        "# graph plotting\n",
        "plt.semilogy(iter,gap_list)\n",
        "plt.axhline(y=eps,color='r') # epsilon precision criterion\n",
        "plt.xlabel('Number of barrier method iterations')\n",
        "plt.ylabel('Gap in semilog scale')\n",
        "plt.title('Gap against the number of barrier method iterations')\n",
        "plt.show()"
      ],
      "execution_count": 8,
      "outputs": [
        {
          "output_type": "display_data",
          "data": {
            "image/png": "[encoded data removed]",
            "text/plain": [
              "<Figure size 432x288 with 1 Axes>"
            ]
          },
          "metadata": {
            "needs_background": "light"
          }
        }
      ]
    },
    {
      "cell_type": "markdown",
      "metadata": {
        "id": "lDMlTVDpqHRP"
      },
      "source": [
        "To recover $w$, take $v^*$ ($\\nu^*$) to be the dual optimal solution. The next step is to minimize $L(x,z,\\nu^*)=\\frac{1}{2}||z||_2^2-{\\nu^*}^T z+{\\nu^*}^T Xw+\\lambda||w||_1-{\\nu^*}^Ty$.\n",
        "\n",
        "Minimizing over $w$: since the terms involving $w$ can be separated by its coordinates, the optimization can be done by coordinate. If $|(X^T\\nu^*)_i|<\\lambda$, $w_i=0$ minimizes the terms involving $w$ since $(|(X^T\\nu^*)_i|+\\lambda)w_i>0$ unless $w_i=0$.\n",
        "\n",
        "Minimizing over $z$ (solve non-zero $w_i$'s): let $X'$ as the sub-matrix of $X$ containing the columns $i$ if $w_i\\neq0$, and $w'$ as the vector removing all $w_i\\neq0$ from $w$. Taking derivative of $L(x,z,\\nu^*)$ with respect to $z$ and setting the derivative as zero gives $z=\\nu^*$. Using $z=Xw-y$ and consider the coordinates of $w$ with $w_i=0$, $X'w'=y+\\nu^*$ is obtained. The solution is $w'=(X'^T X')^{-1}X'^T(y+\\nu^*)$.\n",
        "\n",
        "Combining the two results give the formula for recovering $w$. The following code implements the analytical solution."
      ]
    },
    {
      "cell_type": "code",
      "metadata": {
        "colab": {
          "base_uri": "https://localhost:8080/",
          "height": 1000
        },
        "id": "oWEa758MwL89",
        "outputId": "db2ffb58-547e-4792-d5e4-1c7d0b3c251f"
      },
      "source": [
        "def w(X,y,v,_lambda):\n",
        "    w = np.zeros(d)\n",
        "    w_nonzero = (abs(np.matmul(X.T,v_ast)) + 1e-5 > _lambda) # add a small value to avoid numerical issues\n",
        "    Xp = X[:,np.where(w_nonzero)[0]]\n",
        "    w[np.where(w_nonzero)[0]] = np.matmul(np.linalg.inv(np.matmul(Xp.T,Xp)),np.matmul(Xp.T,(y+v)))\n",
        "    return w\n",
        "\n",
        "w_list = []\n",
        "mu_list = [2,5,15,30,50,100]\n",
        "for mu in mu_list:\n",
        "    v0 = np.zeros(n)\n",
        "    v_list, f0_list = barr_method(Q,p,A,b,v0,mu=mu,eps=eps)\n",
        "    v_ast = v_list.pop(-1) \n",
        "    w_list.append(w(X,y,v_ast,_lambda))\n",
        "\n",
        "    f0_ast = f0_list.pop(-1)\n",
        "    gap_list = f0_list - f0_ast\n",
        "    iter = list(range(len(gap_list)+1))\n",
        "    iter.pop(0)\n",
        "    plt.semilogy(iter,gap_list,label=\"mu=%d\"%mu)\n",
        "\n",
        "for i in range(len(w_list)):\n",
        "    print(\"The value of w for mu=%d\" %mu_list[i], \"\\n\", w_list[i])\n",
        "\n",
        "plt.axhline(y=eps,color='r') # epsilon precision criterion\n",
        "plt.xlabel('Number of barrier method iterations')\n",
        "plt.ylabel('Gap in semilog scale')\n",
        "plt.title('Gap against the number of barrier method iterations')\n",
        "plt.legend()\n",
        "plt.show()"
      ],
      "execution_count": 9,
      "outputs": [
        {
          "output_type": "stream",
          "name": "stdout",
          "text": [
            "The value of w for mu=2 \n",
            " [0.         0.         0.         0.         0.         3.40318548\n",
            " 0.         0.         0.         0.         0.         0.\n",
            " 0.         0.         0.         0.         0.         0.\n",
            " 0.         0.         0.         0.         0.         0.\n",
            " 0.         0.         0.         0.         0.         0.\n",
            " 0.         0.         0.         0.         0.         0.\n",
            " 0.         0.         0.         0.         0.         0.\n",
            " 0.         0.         0.         0.         0.         0.\n",
            " 0.         0.         0.         0.         0.         0.\n",
            " 0.         0.         0.         0.         0.         0.        ]\n",
            "The value of w for mu=5 \n",
            " [0.         0.         0.         0.         0.         3.40318548\n",
            " 0.         0.         0.         0.         0.         0.\n",
            " 0.         0.         0.         0.         0.         0.\n",
            " 0.         0.         0.         0.         0.         0.\n",
            " 0.         0.         0.         0.         0.         0.\n",
            " 0.         0.         0.         0.         0.         0.\n",
            " 0.         0.         0.         0.         0.         0.\n",
            " 0.         0.         0.         0.         0.         0.\n",
            " 0.         0.         0.         0.         0.         0.\n",
            " 0.         0.         0.         0.         0.         0.        ]\n",
            "The value of w for mu=15 \n",
            " [0.         0.         0.         0.         0.         3.40318548\n",
            " 0.         0.         0.         0.         0.         0.\n",
            " 0.         0.         0.         0.         0.         0.\n",
            " 0.         0.         0.         0.         0.         0.\n",
            " 0.         0.         0.         0.         0.         0.\n",
            " 0.         0.         0.         0.         0.         0.\n",
            " 0.         0.         0.         0.         0.         0.\n",
            " 0.         0.         0.         0.         0.         0.\n",
            " 0.         0.         0.         0.         0.         0.\n",
            " 0.         0.         0.         0.         0.         0.        ]\n",
            "The value of w for mu=30 \n",
            " [0.         0.         0.         0.         0.         3.40318548\n",
            " 0.         0.         0.         0.         0.         0.\n",
            " 0.         0.         0.         0.         0.         0.\n",
            " 0.         0.         0.         0.         0.         0.\n",
            " 0.         0.         0.         0.         0.         0.\n",
            " 0.         0.         0.         0.         0.         0.\n",
            " 0.         0.         0.         0.         0.         0.\n",
            " 0.         0.         0.         0.         0.         0.\n",
            " 0.         0.         0.         0.         0.         0.\n",
            " 0.         0.         0.         0.         0.         0.        ]\n",
            "The value of w for mu=50 \n",
            " [0.         0.         0.         0.         0.         3.40318548\n",
            " 0.         0.         0.         0.         0.         0.\n",
            " 0.         0.         0.         0.         0.         0.\n",
            " 0.         0.         0.         0.         0.         0.\n",
            " 0.         0.         0.         0.         0.         0.\n",
            " 0.         0.         0.         0.         0.         0.\n",
            " 0.         0.         0.         0.         0.         0.\n",
            " 0.         0.         0.         0.         0.         0.\n",
            " 0.         0.         0.         0.         0.         0.\n",
            " 0.         0.         0.         0.         0.         0.        ]\n",
            "The value of w for mu=100 \n",
            " [0.         0.         0.         0.         0.         3.40318548\n",
            " 0.         0.         0.         0.         0.         0.\n",
            " 0.         0.         0.         0.         0.         0.\n",
            " 0.         0.         0.         0.         0.         0.\n",
            " 0.         0.         0.         0.         0.         0.\n",
            " 0.         0.         0.         0.         0.         0.\n",
            " 0.         0.         0.         0.         0.         0.\n",
            " 0.         0.         0.         0.         0.         0.\n",
            " 0.         0.         0.         0.         0.         0.\n",
            " 0.         0.         0.         0.         0.         0.        ]\n"
          ]
        },
        {
          "output_type": "display_data",
          "data": {
            "image/png": "[encoded data removed]",
            "text/plain": [
              "<Figure size 432x288 with 1 Axes>"
            ]
          },
          "metadata": {
            "needs_background": "light"
          }
        }
      ]
    },
    {
      "cell_type": "markdown",
      "metadata": {
        "id": "bXOARKY85VMn"
      },
      "source": [
        "In general, a change in the value of $\\mu$ does not affect the value of $w$ obtained. Sometimes, a smaller value of $\\mu$ will generate a solution with more non-zero entries, but it is not very common to obtain this result (this can be more often to occur if $\\lambda$ is set to be smaller or $\\mu$ is very close to 1, but I am not sure).\n",
        "\n",
        "Based on the result that $w$ is unchanged with respect to the value of $\\mu$, a larger value of $\\mu$ is suggested because it will then take fewer iterations of the barrier method to obtain $w$. This increases the efficiency of running the barrier method."
      ]
    }
  ]
}