{
  "nbformat": 4,
  "nbformat_minor": 0,
  "metadata": {
    "colab": {
      "name": "CvxOpt_HW3.ipynb",
      "provenance": []
    },
    "kernelspec": {
      "name": "python3",
      "display_name": "Python 3"
    },
    "language_info": {
      "name": "python"
    }
  },
  "cells": [
    {
      "cell_type": "markdown",
      "metadata": {
        "id": "m7Azl37zsBjv"
      },
      "source": [
        "# Convex Optimization - Homework 3 (Yui Chi HUNG)\n",
        "\n",
        "## Problem 1: Deriving the dual problem of LASSO and formatting it as a general Quadratic Problem (QP)\n",
        "\n",
        "Firstly, reformulate $\\min_{w} \\frac{1}{2}||Xw-y||_2^2+\\lambda||w||_1$ as $\\min_{w,z} \\frac{1}{2}||z||_2^2+\\lambda||w||_1$ with $Xw-z-y=0$.\n",
        "\n",
        "Then, the Lagrangian is \n",
        "\\begin{align*}\n",
        "L(w,z,\\nu) &=\\frac{1}{2}||z||_2^2+\\lambda||w||_1+\\nu^T(Xw-z-y)\\\\\n",
        "&=\\frac{1}{2}||z||_2^2-\\nu^T z+\\nu^T Xw+\\lambda||w||_1-\\nu^Ty\n",
        "\\end{align*}\n",
        "\n",
        "with $\\nu\\in\\mathbb{R}^n$. Since the terms involving $w$ and $z$ are separable, we can minimize them separately when calculating the Lagrange dual function $g(\\nu)=\\inf_{w,z}L(w,z,\\nu)$.\n",
        "\n",
        "For $\\inf_w \\nu^T Xw+\\lambda||w||_1$, if $||X^T\\nu||_\\infty > \\lambda$, let $|(X^T\\nu)_j|>\\lambda$. By setting $w=-t\\cdot\\text{sign}((X^T\\nu)_j)e_j$ with $e_j$ being the j-th basis vector in the canonical basis of $\\mathbb{R}^d$, $\\nu^T Xw+\\lambda||w||_1=-t\\lambda(|(X^T\\nu)_j|-1)\\to-\\infty$ as $t\\to\\infty$. Hence we have $\\inf_w \\nu^T Xw+\\lambda||w||_1=0$ if $||X^T\\nu||_\\infty \\leq \\lambda$ (by taking $w=0$) and $-\\infty$ otherwise. This is because for $||X^T\\nu||_\\infty \\leq \\lambda$, $|\\nu^T Xw|=|(X^T\\nu)^Tw|\\leq\\lambda||w||_1$.\n",
        "\n",
        "For $\\inf_z \\frac{1}{2}||z||_2^2-\\nu^T z$, by taking derivative with respect to $z$ and setting it to be 0, we get $z-\\nu=0$, which means $z=\\nu$. Since the expression is a convex function, $z=\\nu$ gives the infimum which equals to $-\\frac{||\\nu||_2^2}{2}$.\n",
        "\n",
        "Hence, $g(\\nu)=-\\frac{||\\nu||_2^2}{2}-\\nu^T y$ if $||X^T \\nu||_\\infty\\leq\\lambda$ and $-\\infty$ otherwise. So, the dual problem of LASSO is\n",
        "\\begin{align*}\n",
        "\\max_\\nu g(\\nu) &\\iff \\max_\\nu -\\frac{||\\nu||_2^2}{2}-\\nu^T y\\text{ subject to }||X^T \\nu||_\\infty\\leq\\lambda\\\\\n",
        "&\\iff \\min_\\nu \\frac{||\\nu||_2^2}{2}+y^T \\nu\\text{ subject to }||X^T \\nu||_\\infty\\leq\\lambda\\\\\n",
        "&\\iff \\min_v v^TQv+p^Tv\\text{ subject to }Av\\preceq b\n",
        "\\end{align*}\n",
        "\n",
        "with $v=\\nu\\in\\mathbb{R}^n$, $Q=\\frac{1}{2}I_{n\\times n}$, $p=y\\in\\mathbb{R}^n$, $A=\\begin{bmatrix}X^T\\\\-X^T\\end{bmatrix}\\in\\mathbb{R}^{2d\\times n}$, and $b$ is a vector in $\\mathbb{R}^{2d}$ with all its elements as $\\lambda$."
      ]
    },
    {
      "cell_type": "markdown",
      "metadata": {
        "id": "Q2KDNYOh-OyS"
      },
      "source": [
        "## Problem 2: Implementation of the barrier method to solve QP\n",
        "\n",
        "Firstly, consider the central path minimization problem corresponing to the above-mentioned QP. It is $\\min_v f(v)=\\min_v tf_0(v)+\\phi(v)$ with $t>0$, $f_0(v)=v^TQv+p^Tv$ and $\\phi(v)=-\\sum_{i=1}^{2d} \\log(b_i-A^{(i)}v)$, with $A^{(i)}$ denoting the $i$-th row of $A$.\n",
        "\n",
        "Now, we calculate the gradient and the Hessian of $f(v)$ for the Newton's method by chain rule.\n",
        "\\begin{align*}\n",
        "\\nabla f(v) &= t(2Qv+p) +\\sum_{i=1}^{2d} \\frac{1}{b_i-A^{(i)}v} {A^{(i)}}^T\\\\\n",
        "\\nabla^2 f(v) &= 2tQ +\\sum_{i=1}^{2d} \\left(\\frac{1}{b_i-A^{(i)}v}\\right)^2 {A^{(i)}}^T A^{(i)}\n",
        "\\end{align*}\n",
        "\n",
        "With the formulas, we can now implement the functions *centering_step$(Q,p,A,b,t,v0,eps)$*, *barr_method$(Q,p,A,b,v0,eps)$*, and the functions that are used in *centering_step* and *barr_method*."
      ]
    },
    {
      "cell_type": "code",
      "metadata": {
        "id": "o8tKTOJZF4fc"
      },
      "source": [
        "import numpy as np\n",
        "import time"
      ],
      "execution_count": 73,
      "outputs": []
    },
    {
      "cell_type": "code",
      "metadata": {
        "id": "A7cXtQywPq7Z"
      },
      "source": [
        "def s_feasible(A,b,v):\n",
        "    # check if the input A,b,v strictly satisfy the constraint\n",
        "    return ((np.matmul(A,v) >= b).sum() == 0)"
      ],
      "execution_count": 74,
      "outputs": []
    },
    {
      "cell_type": "code",
      "metadata": {
        "id": "nksK86flogsq"
      },
      "source": [
        "def f0(Q,p,v):\n",
        "    return np.matmul(v.T, np.matmul(Q,v)) + np.dot(p,v)"
      ],
      "execution_count": 92,
      "outputs": []
    },
    {
      "cell_type": "code",
      "metadata": {
        "id": "1FjozZZnOquK"
      },
      "source": [
        "def f(Q,p,A,b,t,v):\n",
        "    f0 = np.matmul(v.T, np.matmul(Q,v)) + np.dot(p,v)\n",
        "    phi = -np.sum(np.log(b-np.matmul(A,v)))\n",
        "    return t*f0+phi"
      ],
      "execution_count": 75,
      "outputs": []
    },
    {
      "cell_type": "code",
      "metadata": {
        "id": "llErz3r8OUhM"
      },
      "source": [
        "def backtracking(Q,p,A,b,t,v,alpha,beta,grad,newton_step):\n",
        "    bt = 1\n",
        "    too_small = False\n",
        "    while True:\n",
        "        if not s_feasible(A,b,v+bt*newton_step):\n",
        "            bt *= beta\n",
        "        elif bt < 1e-10:\n",
        "            too_small = True\n",
        "            break\n",
        "        elif f(Q,p,A,b,t,v+bt*newton_step) > f(Q,p,A,b,t,v)+alpha*bt*np.dot(grad,newton_step):\n",
        "            bt *= beta\n",
        "        else:\n",
        "            break\n",
        "    return bt, too_small"
      ],
      "execution_count": 83,
      "outputs": []
    },
    {
      "cell_type": "code",
      "metadata": {
        "id": "fXurqbgdr4ap"
      },
      "source": [
        "def centering_step(Q,p,A,b,t,v0,eps):\n",
        "    v = v0\n",
        "    iter = 0\n",
        "    bAv_inv = 1/(b-np.matmul(A,v))\n",
        "    ATA_tensor = np.zeros((A.shape[0], A.shape[1], A.shape[1]))\n",
        "    for i in range(A.shape[0]):\n",
        "        ATA_tensor[i,:,:] = np.matmul(A[i,:].T, A[i,:])\n",
        "    while True:\n",
        "        # print(\"centering iter:\", iter)\n",
        "        # compute the Newton step and decrement\n",
        "        grad = t*(2*np.matmul(Q,v)+p) + np.dot(A.T, bAv_inv)\n",
        "        hess = 2*t*Q + np.tensordot(bAv_inv**2,ATA_tensor,1)\n",
        "        newton_step = -np.matmul(np.linalg.inv(hess), grad)\n",
        "        newton_decrement_sq = np.dot(grad,-newton_step)\n",
        "        # print(\"Newton decrement:\",newton_decrement_sq)\n",
        "        \n",
        "        # stopping criterion\n",
        "        if newton_decrement_sq <= eps:\n",
        "            break\n",
        "        \n",
        "        # backtracking line search (and stopping criterion for backtracking)\n",
        "        alpha = 0.1 # parameter of backtracking\n",
        "        beta = 0.5 # parameter of backtracking\n",
        "        bt, too_small = backtracking(Q,p,A,b,t,v,alpha,beta,grad,newton_step)\n",
        "        if too_small:\n",
        "            break\n",
        "        # print(\"bt:\", bt)\n",
        "        # update\n",
        "        v += bt*newton_step\n",
        "        iter += 1\n",
        "        # time.sleep(1)\n",
        "    return v"
      ],
      "execution_count": 106,
      "outputs": []
    },
    {
      "cell_type": "code",
      "metadata": {
        "id": "SSBvtJ5XD3qv"
      },
      "source": [
        "def barr_method(Q,p,A,b,v0,t=0.1,mu=1.5,eps=1e-5): # t > 0, mu > 1, eps > 0\n",
        "    v = v0\n",
        "    print(\"initial f0(v)=\", f0(Q,p,v0))\n",
        "    iter = 1\n",
        "    while True:\n",
        "        print(\"barrier iter:\", iter)\n",
        "        # centering step and update\n",
        "        v = centering_step(Q,p,A,b,t,v0,eps)\n",
        "\n",
        "        # stopping criterion and increase t\n",
        "        m = A.shape[0]\n",
        "        if m/t < eps:\n",
        "            break\n",
        "        t *= mu\n",
        "        iter += 1\n",
        "        print(\"f0(v)=\", f0(Q,p,v))\n",
        "        # print(\"v=\", v)\n",
        "        # time.sleep(3)\n",
        "    return v"
      ],
      "execution_count": 104,
      "outputs": []
    },
    {
      "cell_type": "markdown",
      "metadata": {
        "id": "bustPNfUVEKE"
      },
      "source": [
        "## Problem 3: Testing the implemented functions on randomly generated data, and a comparison on different values of $\\mu$"
      ]
    },
    {
      "cell_type": "code",
      "metadata": {
        "colab": {
          "base_uri": "https://localhost:8080/"
        },
        "id": "LCtwnR89VswW",
        "outputId": "98dc2eb8-8330-46fc-9bd9-603e0c108c56"
      },
      "source": [
        "_lambda = 10\n",
        "# test: w = [3,-2]\n",
        "# data generation\n",
        "X = np.array([[1,1],[0.5,-2],[3,0],[-2,1],[-1,5]])\n",
        "y = np.array([1,5.5,9,-8,-13])\n",
        "\n",
        "# setting parameters for using the barrier method\n",
        "(n,d) = X.shape\n",
        "Q = 0.5*np.eye(n)\n",
        "p = y\n",
        "A = np.concatenate((X.T,-X.T), axis=0)\n",
        "b = _lambda*np.ones(2*d)\n",
        "# print(A,b)\n",
        "\n",
        "# initialization and hyperparameter tuning\n",
        "v0 = np.array([1.,1.,1.,1.,0.])\n",
        "# t = \n",
        "# mu = \n",
        "# eps = \n",
        "\n",
        "assert s_feasible(A,b,v0)\n",
        "v = barr_method(Q,p,A,b,v0)\n",
        "print(f0(Q,p,v))"
      ],
      "execution_count": 107,
      "outputs": [
        {
          "output_type": "stream",
          "name": "stdout",
          "text": [
            "initial f0(v)= 9.5\n",
            "barrier iter: 1\n",
            "f0(v)= -25.13344513565817\n",
            "barrier iter: 2\n",
            "f0(v)= -32.606043507864584\n",
            "barrier iter: 3\n",
            "f0(v)= -36.114022773549934\n",
            "barrier iter: 4\n",
            "f0(v)= -38.991619843943745\n",
            "barrier iter: 5\n",
            "f0(v)= -41.18974418045782\n",
            "barrier iter: 6\n",
            "f0(v)= -41.890624962325305\n",
            "barrier iter: 7\n",
            "f0(v)= -42.369059855377955\n",
            "barrier iter: 8\n",
            "f0(v)= -43.0632160521426\n",
            "barrier iter: 9\n",
            "f0(v)= -43.318393397588345\n",
            "barrier iter: 10\n",
            "f0(v)= -43.647126287739084\n",
            "barrier iter: 11\n",
            "f0(v)= -43.83297622273444\n",
            "barrier iter: 12\n",
            "f0(v)= -43.902895523845615\n",
            "barrier iter: 13\n",
            "f0(v)= -43.97138847192787\n",
            "barrier iter: 14\n",
            "f0(v)= -44.0413833001233\n",
            "barrier iter: 15\n",
            "f0(v)= -44.053565527904084\n",
            "barrier iter: 16\n",
            "f0(v)= -44.078470465714595\n",
            "barrier iter: 17\n",
            "f0(v)= -44.10088729507652\n",
            "barrier iter: 18\n",
            "f0(v)= -44.110578963531424\n",
            "barrier iter: 19\n",
            "f0(v)= -44.11426089339132\n",
            "barrier iter: 20\n",
            "f0(v)= -44.118152888460294\n",
            "barrier iter: 21\n",
            "f0(v)= -44.12025421902148\n",
            "barrier iter: 22\n",
            "f0(v)= -44.12279350862693\n",
            "barrier iter: 23\n",
            "f0(v)= -44.1242736169889\n",
            "barrier iter: 24\n",
            "f0(v)= -44.124860505329636\n",
            "barrier iter: 25\n",
            "f0(v)= -44.125375387160396\n",
            "barrier iter: 26\n",
            "f0(v)= -44.12591643735455\n",
            "barrier iter: 27\n",
            "f0(v)= -44.125996957245526\n",
            "barrier iter: 28\n",
            "f0(v)= -44.126206480849206\n",
            "barrier iter: 29\n",
            "f0(v)= -44.12637157739307\n",
            "barrier iter: 30\n",
            "f0(v)= -44.12640891007844\n",
            "barrier iter: 31\n",
            "f0(v)= -44.12648247881178\n",
            "barrier iter: 32\n",
            "f0(v)= -44.126494251046324\n",
            "barrier iter: 33\n",
            "f0(v)= -44.12651662848336\n",
            "barrier iter: 34\n",
            "f0(v)= -44.12653825468614\n",
            "barrier iter: 35\n",
            "f0(v)= -44.12654395879363\n",
            "barrier iter: 36\n",
            "f0(v)= -44.12655343953944\n",
            "barrier iter: 37\n",
            "f0(v)= -44.126556263186444\n",
            "barrier iter: 38\n",
            "f0(v)= -44.12655862653636\n",
            "barrier iter: 39\n",
            "-44.12656124102971\n"
          ]
        }
      ]
    }
  ]
}